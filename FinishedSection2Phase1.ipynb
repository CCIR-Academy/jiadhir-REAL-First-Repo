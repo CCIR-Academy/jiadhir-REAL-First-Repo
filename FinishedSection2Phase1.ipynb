{
  "nbformat": 4,
  "nbformat_minor": 0,
  "metadata": {
    "colab": {
      "name": "Copy of Section_2_Phase_1_Tasks_Solutions.ipynb",
      "provenance": [],
      "collapsed_sections": [],
      "include_colab_link": true
    },
    "kernelspec": {
      "name": "python3",
      "display_name": "Python 3"
    },
    "language_info": {
      "name": "python"
    }
  },
  "cells": [
    {
      "cell_type": "markdown",
      "metadata": {
        "id": "view-in-github",
        "colab_type": "text"
      },
      "source": [
        "<a href=\"https://colab.research.google.com/github/CCIR-Academy/jiadhir-REAL-First-Repo/blob/main/FinishedSection2Phase1.ipynb\" target=\"_parent\"><img src=\"https://colab.research.google.com/assets/colab-badge.svg\" alt=\"Open In Colab\"/></a>"
      ]
    },
    {
      "cell_type": "code",
      "metadata": {
        "colab": {
          "base_uri": "https://localhost:8080/"
        },
        "id": "j273qgsQFhPC",
        "outputId": "ede4da64-64f1-4935-c88b-11883f9ee628"
      },
      "source": [
        "# Challenge 1: Try to calculate the sum of all integers between 0 to 100 in your own way.\n",
        "answer= sum([i for i in range (1,101)])\n",
        "print(answer)"
      ],
      "execution_count": null,
      "outputs": [
        {
          "output_type": "stream",
          "text": [
            "5050\n"
          ],
          "name": "stdout"
        }
      ]
    },
    {
      "cell_type": "code",
      "metadata": {
        "colab": {
          "base_uri": "https://localhost:8080/"
        },
        "id": "dqEUrgq0FpZs",
        "outputId": "b50ecdac-7549-4b26-94de-dbaf34ad8be0"
      },
      "source": [
        "# Challenge 2: Try to define a function which can take 2 parameters of integers, and calculate the sum of all the integers in between.\n",
        "def sumInt(first,second):\n",
        "    answer = sum([x for x in range(first, second +1)])\n",
        "    return answer\n",
        "\n",
        "sumInt(0, 100)\n",
        "        \n"
      ],
      "execution_count": null,
      "outputs": [
        {
          "output_type": "execute_result",
          "data": {
            "text/plain": [
              "5050"
            ]
          },
          "metadata": {
            "tags": []
          },
          "execution_count": 2
        }
      ]
    },
    {
      "cell_type": "code",
      "metadata": {
        "id": "czF4zXFTFqUN",
        "colab": {
          "base_uri": "https://localhost:8080/"
        },
        "outputId": "032565b4-826e-480c-d948-95ee8ca4c0d5"
      },
      "source": [
        "# Challenge 3: Try to make the function you created for Challenge able to handle inappropriate input exceptions elegantly.\n",
        "def sumInt(first,second): \n",
        "    try:\n",
        "        answer = sum([x for x in range(first, second +1)])\n",
        "        return answer\n",
        "    except Exception as err:\n",
        "        print('error')\n",
        "\n",
        "\n",
        "sumInt('a', 100)"
      ],
      "execution_count": null,
      "outputs": [
        {
          "output_type": "stream",
          "text": [
            "error\n"
          ],
          "name": "stdout"
        }
      ]
    },
    {
      "cell_type": "markdown",
      "metadata": {
        "id": "46pXkEZFGuvq"
      },
      "source": [
        "Challenge 4 (Difficult!): Try to define a class of \"mathBot\" which has the following features:\n",
        "- Can be created with arguments that specify date of creation, the name of the created instance, and other properties. These properties should be also editable.\n",
        "- Comes with a memory module that can store/retrieve/update/eliminate data in number into/from different datasets with different label names.\n",
        "- Comes with a stat module that can analyze the stored datasets statistically, such as generating the mean, median, variance, etc.\n",
        "- Is able to handle invalid input."
      ]
    },
    {
      "cell_type": "markdown",
      "metadata": {
        "id": "ybRAi_j3nteR"
      },
      "source": [
        ""
      ]
    },
    {
      "cell_type": "markdown",
      "metadata": {
        "id": "U4TlnFAinqdJ"
      },
      "source": [
        "Very confused with challenge 4"
      ]
    },
    {
      "cell_type": "code",
      "metadata": {
        "id": "DVwdpCCJGrI2"
      },
      "source": [
        "%pip install chaipy nest_asyncio\n",
        "\n",
        "\n",
        "from chai_py import ChaiBot, Update, TRoom\n",
        "import datetime, asyncio\n",
        "import nest_asyncio\n",
        "nest_asyncio.apply()\n",
        "\n",
        "# Important Note: Don't worry about all the asyncio thing as they are just tweaks to allow such bot to be run on Colab. You won't need them if you run your bot locally.\n",
        "\n",
        "\n",
        "# This bot is just for the purpose of demonstration and is not fully done yet.\n",
        "class myCCIRBot(ChaiBot):        \n",
        "    def setup(self) -> None:\n",
        "        self.logger.info(\"Hello, world!\")\n",
        "        name = input(\"Please give me a name if you don't want to call me CCIRBot!\") or \"CCIRBot\"\n",
        "        parentName = input(\"Please tell me who created me if I am not created by Alive24!\") or \"Alive24\"\n",
        "        self.botName = name\n",
        "        self.dateOfCreation = datetime.datetime.now()\n",
        "        self.parentName = parentName\n",
        "        self.dataStorageDict = {}\n",
        "    def storeData():\n",
        "        return\n",
        "    async def on_message(self, update: Update) -> str:\n",
        "        if update.latest_message.text == \"name\":\n",
        "            return f\"My name is {self.botName}\"\n",
        "        if update.latest_message.text == \"parent\":\n",
        "            return f\"I was created by {self.botName} on {self.dateOfCreation.strftime('%Y-%m-%d')}.\"\n",
        "        return f\"Echo: {update.latest_message.text}\"\n",
        "\n",
        "t_room = TRoom([myCCIRBot()])\n",
        "t_room.chat()"
      ],
      "execution_count": null,
      "outputs": []
    }
  ]
}